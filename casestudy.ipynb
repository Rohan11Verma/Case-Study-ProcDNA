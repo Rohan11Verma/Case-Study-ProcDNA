{
 "cells": [
  {
   "cell_type": "code",
   "execution_count": 1,
   "id": "5f3b41e5-39bd-4828-a264-d533e4dfe006",
   "metadata": {},
   "outputs": [],
   "source": [
    "import pandas as pd"
   ]
  },
  {
   "cell_type": "code",
   "execution_count": 2,
   "id": "cfb5aaff-b6d3-4aaa-81c0-f3a624c5dcc0",
   "metadata": {},
   "outputs": [],
   "source": [
    "df = pd.read_excel(r\"C:\\Users\\ROHAN VERMA R11\\Desktop\\datasetcs.xlsx\", na_values=['_x000D_\\n'])"
   ]
  },
  {
   "cell_type": "code",
   "execution_count": 3,
   "id": "7b101849-3634-4d38-b901-b78c45ffc60a",
   "metadata": {},
   "outputs": [],
   "source": [
    "#basic data exploration"
   ]
  },
  {
   "cell_type": "code",
   "execution_count": 4,
   "id": "5f183510-c0e3-4840-bb4b-10167b3980ae",
   "metadata": {},
   "outputs": [
    {
     "data": {
      "text/plain": [
       "(2219, 9)"
      ]
     },
     "execution_count": 4,
     "metadata": {},
     "output_type": "execute_result"
    }
   ],
   "source": [
    "df.shape"
   ]
  },
  {
   "cell_type": "code",
   "execution_count": 5,
   "id": "85271186-47e6-4585-aa80-38437da2223a",
   "metadata": {},
   "outputs": [
    {
     "name": "stdout",
     "output_type": "stream",
     "text": [
      "<class 'pandas.core.frame.DataFrame'>\n",
      "RangeIndex: 2219 entries, 0 to 2218\n",
      "Data columns (total 9 columns):\n",
      " #   Column        Non-Null Count  Dtype  \n",
      "---  ------        --------------  -----  \n",
      " 0   Condition     2219 non-null   object \n",
      " 1   Drug          2219 non-null   object \n",
      " 2   Indication    2188 non-null   object \n",
      " 3   Indication.1  2212 non-null   object \n",
      " 4   Indication.2  2219 non-null   object \n",
      " 5   Indication.3  2219 non-null   float64\n",
      " 6   Indication.4  2219 non-null   float64\n",
      " 7   Indication.5  2219 non-null   float64\n",
      " 8   Indication.6  2219 non-null   object \n",
      "dtypes: float64(3), object(6)\n",
      "memory usage: 156.2+ KB\n"
     ]
    }
   ],
   "source": [
    "df.info()"
   ]
  },
  {
   "cell_type": "code",
   "execution_count": 6,
   "id": "c37a8691-1854-42de-92b9-a4fabfc938a9",
   "metadata": {},
   "outputs": [
    {
     "data": {
      "text/plain": [
       "Index(['Condition', 'Drug', 'Indication', 'Indication.1', 'Indication.2',\n",
       "       'Indication.3', 'Indication.4', 'Indication.5', 'Indication.6'],\n",
       "      dtype='object')"
      ]
     },
     "execution_count": 6,
     "metadata": {},
     "output_type": "execute_result"
    }
   ],
   "source": [
    "df.columns"
   ]
  },
  {
   "cell_type": "code",
   "execution_count": 7,
   "id": "566865dd-40e6-4d5f-b99b-195a7e905f91",
   "metadata": {},
   "outputs": [
    {
     "data": {
      "text/html": [
       "<div>\n",
       "<style scoped>\n",
       "    .dataframe tbody tr th:only-of-type {\n",
       "        vertical-align: middle;\n",
       "    }\n",
       "\n",
       "    .dataframe tbody tr th {\n",
       "        vertical-align: top;\n",
       "    }\n",
       "\n",
       "    .dataframe thead th {\n",
       "        text-align: right;\n",
       "    }\n",
       "</style>\n",
       "<table border=\"1\" class=\"dataframe\">\n",
       "  <thead>\n",
       "    <tr style=\"text-align: right;\">\n",
       "      <th></th>\n",
       "      <th>Indication.3</th>\n",
       "      <th>Indication.4</th>\n",
       "      <th>Indication.5</th>\n",
       "    </tr>\n",
       "  </thead>\n",
       "  <tbody>\n",
       "    <tr>\n",
       "      <th>count</th>\n",
       "      <td>2219.000000</td>\n",
       "      <td>2219.000000</td>\n",
       "      <td>2219.000000</td>\n",
       "    </tr>\n",
       "    <tr>\n",
       "      <th>mean</th>\n",
       "      <td>3.557972</td>\n",
       "      <td>3.958824</td>\n",
       "      <td>3.218774</td>\n",
       "    </tr>\n",
       "    <tr>\n",
       "      <th>std</th>\n",
       "      <td>1.113128</td>\n",
       "      <td>1.037877</td>\n",
       "      <td>1.230933</td>\n",
       "    </tr>\n",
       "    <tr>\n",
       "      <th>min</th>\n",
       "      <td>1.000000</td>\n",
       "      <td>1.000000</td>\n",
       "      <td>1.000000</td>\n",
       "    </tr>\n",
       "    <tr>\n",
       "      <th>25%</th>\n",
       "      <td>3.000000</td>\n",
       "      <td>3.540000</td>\n",
       "      <td>2.400000</td>\n",
       "    </tr>\n",
       "    <tr>\n",
       "      <th>50%</th>\n",
       "      <td>3.680000</td>\n",
       "      <td>4.100000</td>\n",
       "      <td>3.130000</td>\n",
       "    </tr>\n",
       "    <tr>\n",
       "      <th>75%</th>\n",
       "      <td>4.330000</td>\n",
       "      <td>5.000000</td>\n",
       "      <td>4.000000</td>\n",
       "    </tr>\n",
       "    <tr>\n",
       "      <th>max</th>\n",
       "      <td>5.000000</td>\n",
       "      <td>5.000000</td>\n",
       "      <td>5.000000</td>\n",
       "    </tr>\n",
       "  </tbody>\n",
       "</table>\n",
       "</div>"
      ],
      "text/plain": [
       "       Indication.3  Indication.4  Indication.5\n",
       "count   2219.000000   2219.000000   2219.000000\n",
       "mean       3.557972      3.958824      3.218774\n",
       "std        1.113128      1.037877      1.230933\n",
       "min        1.000000      1.000000      1.000000\n",
       "25%        3.000000      3.540000      2.400000\n",
       "50%        3.680000      4.100000      3.130000\n",
       "75%        4.330000      5.000000      4.000000\n",
       "max        5.000000      5.000000      5.000000"
      ]
     },
     "execution_count": 7,
     "metadata": {},
     "output_type": "execute_result"
    }
   ],
   "source": [
    "df.describe()"
   ]
  },
  {
   "cell_type": "code",
   "execution_count": 8,
   "id": "34af5e25-7c00-46bc-8c3f-38711f49fdfc",
   "metadata": {},
   "outputs": [
    {
     "data": {
      "text/html": [
       "<div>\n",
       "<style scoped>\n",
       "    .dataframe tbody tr th:only-of-type {\n",
       "        vertical-align: middle;\n",
       "    }\n",
       "\n",
       "    .dataframe tbody tr th {\n",
       "        vertical-align: top;\n",
       "    }\n",
       "\n",
       "    .dataframe thead th {\n",
       "        text-align: right;\n",
       "    }\n",
       "</style>\n",
       "<table border=\"1\" class=\"dataframe\">\n",
       "  <thead>\n",
       "    <tr style=\"text-align: right;\">\n",
       "      <th></th>\n",
       "      <th>Condition</th>\n",
       "      <th>Drug</th>\n",
       "      <th>Indication</th>\n",
       "      <th>Indication.1</th>\n",
       "      <th>Indication.2</th>\n",
       "      <th>Indication.3</th>\n",
       "      <th>Indication.4</th>\n",
       "      <th>Indication.5</th>\n",
       "      <th>Indication.6</th>\n",
       "    </tr>\n",
       "  </thead>\n",
       "  <tbody>\n",
       "    <tr>\n",
       "      <th>0</th>\n",
       "      <td>Acute Bacterial Sinusitis</td>\n",
       "      <td>Levofloxacin</td>\n",
       "      <td>On Label</td>\n",
       "      <td>RX</td>\n",
       "      <td>994 Reviews</td>\n",
       "      <td>2.52</td>\n",
       "      <td>3.01</td>\n",
       "      <td>1.84</td>\n",
       "      <td>_x000D_\\n\\t\\t\\t\\t\\tLevofloxacin is used to tre...</td>\n",
       "    </tr>\n",
       "    <tr>\n",
       "      <th>1</th>\n",
       "      <td>Acute Bacterial Sinusitis</td>\n",
       "      <td>Levofloxacin</td>\n",
       "      <td>On Label</td>\n",
       "      <td>RX</td>\n",
       "      <td>994 Reviews</td>\n",
       "      <td>2.52</td>\n",
       "      <td>3.01</td>\n",
       "      <td>1.84</td>\n",
       "      <td>_x000D_\\n\\t\\t\\t\\t\\tLevofloxacin is used to tre...</td>\n",
       "    </tr>\n",
       "    <tr>\n",
       "      <th>2</th>\n",
       "      <td>Acute Bacterial Sinusitis</td>\n",
       "      <td>Moxifloxacin</td>\n",
       "      <td>On Label</td>\n",
       "      <td>RX</td>\n",
       "      <td>755 Reviews</td>\n",
       "      <td>2.78</td>\n",
       "      <td>3.00</td>\n",
       "      <td>2.08</td>\n",
       "      <td>_x000D_\\n\\t\\t\\t\\t\\t This is a generic drug. Th...</td>\n",
       "    </tr>\n",
       "    <tr>\n",
       "      <th>3</th>\n",
       "      <td>Acute Bacterial Sinusitis</td>\n",
       "      <td>Azithromycin</td>\n",
       "      <td>On Label</td>\n",
       "      <td>RX</td>\n",
       "      <td>584 Reviews</td>\n",
       "      <td>3.21</td>\n",
       "      <td>4.01</td>\n",
       "      <td>2.57</td>\n",
       "      <td>_x000D_\\n\\t\\t\\t\\t\\tAzithromycin is an antibiot...</td>\n",
       "    </tr>\n",
       "    <tr>\n",
       "      <th>4</th>\n",
       "      <td>Acute Bacterial Sinusitis</td>\n",
       "      <td>Azithromycin</td>\n",
       "      <td>On Label</td>\n",
       "      <td>RX</td>\n",
       "      <td>584 Reviews</td>\n",
       "      <td>3.21</td>\n",
       "      <td>4.01</td>\n",
       "      <td>2.57</td>\n",
       "      <td>_x000D_\\n\\t\\t\\t\\t\\tAzithromycin is an antibiot...</td>\n",
       "    </tr>\n",
       "  </tbody>\n",
       "</table>\n",
       "</div>"
      ],
      "text/plain": [
       "                   Condition          Drug Indication Indication.1  \\\n",
       "0  Acute Bacterial Sinusitis  Levofloxacin   On Label           RX   \n",
       "1  Acute Bacterial Sinusitis  Levofloxacin   On Label           RX   \n",
       "2  Acute Bacterial Sinusitis  Moxifloxacin   On Label           RX   \n",
       "3  Acute Bacterial Sinusitis  Azithromycin   On Label           RX   \n",
       "4  Acute Bacterial Sinusitis  Azithromycin   On Label           RX   \n",
       "\n",
       "  Indication.2  Indication.3  Indication.4  Indication.5  \\\n",
       "0  994 Reviews          2.52          3.01          1.84   \n",
       "1  994 Reviews          2.52          3.01          1.84   \n",
       "2  755 Reviews          2.78          3.00          2.08   \n",
       "3  584 Reviews          3.21          4.01          2.57   \n",
       "4  584 Reviews          3.21          4.01          2.57   \n",
       "\n",
       "                                        Indication.6  \n",
       "0  _x000D_\\n\\t\\t\\t\\t\\tLevofloxacin is used to tre...  \n",
       "1  _x000D_\\n\\t\\t\\t\\t\\tLevofloxacin is used to tre...  \n",
       "2  _x000D_\\n\\t\\t\\t\\t\\t This is a generic drug. Th...  \n",
       "3  _x000D_\\n\\t\\t\\t\\t\\tAzithromycin is an antibiot...  \n",
       "4  _x000D_\\n\\t\\t\\t\\t\\tAzithromycin is an antibiot...  "
      ]
     },
     "execution_count": 8,
     "metadata": {},
     "output_type": "execute_result"
    }
   ],
   "source": [
    "df.head()"
   ]
  },
  {
   "cell_type": "code",
   "execution_count": 9,
   "id": "056c3268-1239-4be7-95cf-3c4d16910265",
   "metadata": {},
   "outputs": [
    {
     "data": {
      "text/plain": [
       "Condition        object\n",
       "Drug             object\n",
       "Indication       object\n",
       "Indication.1     object\n",
       "Indication.2     object\n",
       "Indication.3    float64\n",
       "Indication.4    float64\n",
       "Indication.5    float64\n",
       "Indication.6     object\n",
       "dtype: object"
      ]
     },
     "execution_count": 9,
     "metadata": {},
     "output_type": "execute_result"
    }
   ],
   "source": [
    "df.dtypes"
   ]
  },
  {
   "cell_type": "code",
   "execution_count": 10,
   "id": "c05239c6-ce87-4426-ba7b-70721df96e0f",
   "metadata": {},
   "outputs": [
    {
     "name": "stdout",
     "output_type": "stream",
     "text": [
      "Condition        0\n",
      "Drug             0\n",
      "Indication      31\n",
      "Indication.1     7\n",
      "Indication.2     0\n",
      "Indication.3     0\n",
      "Indication.4     0\n",
      "Indication.5     0\n",
      "Indication.6     0\n",
      "dtype: int64\n"
     ]
    }
   ],
   "source": [
    "#check for null values\n",
    "print(df.isnull().sum())"
   ]
  },
  {
   "cell_type": "code",
   "execution_count": 11,
   "id": "29c2582e-4bb2-4730-8cde-65757bf0e86f",
   "metadata": {},
   "outputs": [
    {
     "name": "stdout",
     "output_type": "stream",
     "text": [
      "466\n"
     ]
    }
   ],
   "source": [
    "#check for duplicate values\n",
    "print(df.duplicated().sum())"
   ]
  },
  {
   "cell_type": "code",
   "execution_count": 12,
   "id": "ba62a761-1898-4479-b43b-1969b857f749",
   "metadata": {},
   "outputs": [],
   "source": [
    "#dropping the duplicate values\n",
    "df.drop_duplicates(inplace=True)"
   ]
  },
  {
   "cell_type": "code",
   "execution_count": 13,
   "id": "58918603-8637-420b-9778-1d61d7b74f66",
   "metadata": {},
   "outputs": [
    {
     "data": {
      "text/plain": [
       "(1753, 9)"
      ]
     },
     "execution_count": 13,
     "metadata": {},
     "output_type": "execute_result"
    }
   ],
   "source": [
    "df.shape"
   ]
  },
  {
   "cell_type": "code",
   "execution_count": 14,
   "id": "66e16d6f-d1d4-4ee9-a7dd-256b2d768786",
   "metadata": {},
   "outputs": [],
   "source": [
    "df.rename(columns={'Indication.1':'Prescription_requirement','Indication.2':'Number_of_reviews', 'Indication.3':'Effectiveness', 'Indication.4':'Ease_of_use', 'Indication.5':'Satisfaction'},inplace=True)"
   ]
  },
  {
   "cell_type": "code",
   "execution_count": 15,
   "id": "2b83df91-3315-4096-bfba-126af2f95138",
   "metadata": {},
   "outputs": [
    {
     "data": {
      "text/plain": [
       "array(['Acute Bacterial Sinusitis', 'adenocarcinoma of pancreas',\n",
       "       'Atopic Dermatitis', 'back pain', 'Bacterial Conjunctivitis',\n",
       "       'Bacterial Urinary Tract Infection', 'biliary calculus',\n",
       "       'chickenpox', 'colorectal cancer', 'depression',\n",
       "       'diverticulitis of gastrointestinal tract', 'edema',\n",
       "       'endometriosis', 'fever', 'fibromyalgia', 'flatulence',\n",
       "       'furunculosis', 'gastroesophageal reflux disease',\n",
       "       'genital herpes simplex', 'gout', 'hemorrhoids', 'herpes zoster',\n",
       "       'hypercholesterolemia', 'hypertension', 'impetigo',\n",
       "       'Infantile Autism', 'Influenza', \"meniere's disease\",\n",
       "       'oral candidiasis', 'Pharyngitis due to Streptococcus Pyogenes',\n",
       "       'prevention of cerebrovascular accident', 'pyelonephritis',\n",
       "       'scabies', 'Sleepiness Due To Obstructive Sleep Apnea',\n",
       "       'sore throat', 'vertigo', 'vulvovaginal candidiasis'], dtype=object)"
      ]
     },
     "execution_count": 15,
     "metadata": {},
     "output_type": "execute_result"
    }
   ],
   "source": [
    "#check for null values or unknown values\n",
    "df['Condition'].unique()"
   ]
  },
  {
   "cell_type": "code",
   "execution_count": 16,
   "id": "2e556704-756f-4b60-8900-1ab71d81ad58",
   "metadata": {},
   "outputs": [
    {
     "data": {
      "text/plain": [
       "array(['Levofloxacin', 'Moxifloxacin', 'Azithromycin',\n",
       "       'Amoxicillin-Pot Clavulanate', 'Amoxicillin', 'Clarithromycin',\n",
       "       'Erythromycin', 'Ampicillin', 'Erythromycin Stearate',\n",
       "       'Erythromycin Ethylsuccinate', 'Moxifloxacin-Sod.Chloride(Iso)',\n",
       "       'Ampicillin Sodium', 'Capecitabine', 'Cisplatin', 'Oxaliplatin',\n",
       "       'Paclitaxel-Protein Bound', 'Gemcitabine', 'Fluorouracil',\n",
       "       'Mitomycin', 'Doxorubicin', 'Prednisone', 'Methylprednisolone',\n",
       "       'Cetirizine', 'Triamcinolone Acetonide', 'Clobetasol',\n",
       "       'Dexamethasone', 'Methylprednisolone Acetate', 'Pimecrolimus',\n",
       "       'Fluocinonide', 'Desonide', 'Betamethasone Dipropionate',\n",
       "       'Tacrolimus', 'Mometasone', 'Hydrocortisone', 'Desoximetasone',\n",
       "       'Clobetasol-Emollient', 'Hydrocortisone Butyr-Emollient',\n",
       "       'Halobetasol Propionate', 'Fluocinolone',\n",
       "       'Vit E-Grape-Hyaluronate Sodium', 'Cortisone',\n",
       "       'Betamethasone Valerate', 'Betamethasone Acet,Sod Phos',\n",
       "       'Fluocinolone And Shower Cap', 'Dexamethasone Sodium Phosphate',\n",
       "       'Prednisolone Sodium Phosphate', 'Hydrocortisone-Iodoquinl-Aloe2',\n",
       "       'Prednisolone',\n",
       "       'Betamethasone, Augmented, Betamethasone Dipropionate',\n",
       "       'Prednicarbate', 'Hydrocortisone Valerate',\n",
       "       'Fluticasone Propionate', 'Flurandrenolide',\n",
       "       'Hydrocortisone-Pramoxine, Hydrocortisone',\n",
       "       'Betamethasone, Augmented', 'Diflorasone',\n",
       "       'Hydrocortisone Butyrate', 'Fluocinonide-Emollient', 'Doxepin',\n",
       "       'Diflorasone-Emollient',\n",
       "       'Hydrocortisone, Pramoxine-Benzyl Alcohol',\n",
       "       'Desonide-Emollient Combo No 28, Desonide',\n",
       "       'Hydrocortisone Acetate', 'Alclometasone', 'Amcinonide',\n",
       "       'Vit E-Glycerin-Dimethicone, Glycerin-Dimethicone-Petro, Wh',\n",
       "       'Prednisolone, Prednisolone Sodium Phosphate',\n",
       "       'Hydrocortisone Sod Succinate', 'Hydrocortisone Probutate',\n",
       "       'Triamcinolone-Emollient Comb86', 'Dexamethasone Sodium Phos (PF)',\n",
       "       'Hydrocortisone-Iodoquinol', 'Salicylic Acid, Hydrocortisone',\n",
       "       'Hydrocortisone Sod Succ (PF)', 'Fluocinolone-Emol Cmb#65',\n",
       "       'Desonide-Emollient Combo No 28', 'Fluocinolone-Skin Clnsr28',\n",
       "       'Vit E-Glycerin-Dimethicone', 'Hydrocortisone-Oatmeal-Aloe-E',\n",
       "       'Acetaminophen', 'Capsaicin', 'Capsaicin-Menthol, Capsaicin',\n",
       "       'Trolamine Salicylate', 'Capsaicin-Methyl Sal-Menthol',\n",
       "       'ASA-Acetaminophen-Salicyl-Caff, Mg Salicylat-Acetaminophen-Caf',\n",
       "       'Menthol',\n",
       "       'Menthol-Camphor-Antarth Cb#1, Methyl Salicylate-Menthol, Camphor-Menthol, Camphor-Methyl Salicyl-Menthol',\n",
       "       'Cpm-PPA-DM-Acetaminophen, Acetaminophen',\n",
       "       'Trolamine Salicylate, Ala-Bos-Gin-Bas-Rose-Tur-Wil',\n",
       "       'Capsaicin-Camphor-Menthol', 'Aspirin-Acetaminophen-Caffeine',\n",
       "       'Trolamine Salicylate-Aloe Vera',\n",
       "       'Menthol, Camphor-Methyl Salicyl-Menthol', 'Menthol, Capsaicin',\n",
       "       'Capsaicin In Castor Oil', 'Ciprofloxacin Hcl', 'Gentamicin',\n",
       "       'Sulfacetamide Sodium', 'Besifloxacin', 'Gatifloxacin',\n",
       "       'Ofloxacin', 'Bacitracin', 'Bacitracin-Polymyxin B',\n",
       "       'Sulfacetamide-Prednisolone', 'Neomycin-Bacitracin-Polymyxin',\n",
       "       'Neomycin-Polymyxin-Gramicidin', 'Gentamicin-Prednisolone',\n",
       "       'Ciprofloxacin Hcl, Ciprofloxacin',\n",
       "       'Sulfamethoxazole-Trimethoprim', 'Nitrofurantoin Monohyd/M-Cryst',\n",
       "       'Ciprofloxacin', 'Doxycycline Hyclate', 'Cephalexin', 'Cefdinir',\n",
       "       'Nitrofurantoin', 'Doxycycline Calcium', 'Minocycline',\n",
       "       'Cefuroxime Axetil', 'Nitrofurantoin Macrocrystal',\n",
       "       'Fosfomycin Tromethamine', 'Cefixime', 'Trimethoprim',\n",
       "       'Doxycycline Monohydrate', 'Ceftriaxone',\n",
       "       'Doxycycline Calcium, Doxycycline Hyclate, Doxycycline Monohydrate',\n",
       "       'Cefadroxil', 'Cefaclor', 'Cefazolin', 'Cefepime',\n",
       "       'Imipenem-Cilastatin', 'Amikacin', 'Levofloxacin In D5W',\n",
       "       'Sulfadiazine', 'Cefepime In Dextrose,Iso-Osm', 'Ceftazidime',\n",
       "       'Acetohydroxamic Acid', 'Aztreonam', 'Demeclocycline',\n",
       "       'Streptomycin', 'Ceftriaxone In Dextrose,Iso-Os',\n",
       "       'Cefazolin In Dextrose (Iso-Os)', 'Cefuroxime Sodium',\n",
       "       'Ciprofloxacin In 5 % Dextrose', 'Ursodiol', 'Valacyclovir',\n",
       "       'Acyclovir', 'Acyclovir Sodium', 'Amitriptyline', 'Nortriptyline',\n",
       "       'Fluvoxamine', 'Imipramine Hcl', 'Phenelzine', 'Clomipramine',\n",
       "       'Desipramine', 'Imipramine Pamoate', 'Protriptyline',\n",
       "       'Maprotiline', 'Amoxapine', 'Metronidazole',\n",
       "       'Piperacillin-Tazobactam', 'Meropenem', 'Tigecycline',\n",
       "       'Clindamycin Phosphate', 'Ampicillin-Sulbactam',\n",
       "       'Clindamycin In 5 % Dextrose', 'Metronidazole In Nacl (Iso-Os)',\n",
       "       'Hydrochlorothiazide', 'Spironolactone', 'Furosemide',\n",
       "       'Triamterene-Hydrochlorothiazid', 'Acetazolamide',\n",
       "       'Chlorthalidone', 'Torsemide', 'Bumetanide',\n",
       "       'Spironolacton-Hydrochlorothiaz', 'Ethacrynic Acid', 'Triamterene',\n",
       "       'Amiloride-Hydrochlorothiazide', 'Indapamide', 'Chlorothiazide',\n",
       "       'Triamterene-Hydrochlorothiazid, Trichlormethiazide',\n",
       "       'Norethindrone-E.Estradiol-Iron', 'Medroxyprogesterone',\n",
       "       'Noreth-Ethinyl Estradiol-Iron', 'L Norgest/E.Estradiol-E.Estrad',\n",
       "       'Levonorgestrel-Ethinyl Estrad', 'Norethindrone-Ethin Estradiol',\n",
       "       'Norgestrel-Ethinyl Estradiol', 'Norgestimate-Ethinyl Estradiol',\n",
       "       'Levonorg-Eth Estrad Triphasic', 'Norethindrone Acetate',\n",
       "       'Norethindrone Ac-Eth Estradiol', 'Norethin-E.Estradiol Triphasic',\n",
       "       'Danazol', 'Triptorelin Pamoate', 'Nafarelin', 'Goserelin',\n",
       "       'Norethin-Eth Estrad Biphasic',\n",
       "       'Norethin-E.Estradiol Triphasic, Norethindrone-Ethin Estradiol',\n",
       "       'Naproxen', 'Indomethacin', 'Ibuprofen', 'Naproxen Sodium',\n",
       "       'Aspirin', 'Doxylamin-PSE-DM-Acetaminophen',\n",
       "       'ASA-Acetaminophen-Salicyl-Caff', 'Phenyleph-DM-Acetamin-Guaifen',\n",
       "       'Pseudoephedrine-Ibuprofen', 'Pseudoeph-DM-GG-Acetaminophen',\n",
       "       'Acetaminophen-Caffeine', 'Phenyltoloxamine-Acetaminophen',\n",
       "       'Chlorpheniram-DM-Acetaminophen', 'Choline,Magnesium Salicylate',\n",
       "       'Aspirin, Buffered', 'Naproxen-Pseudoephedrine',\n",
       "       'Chlorphen-PE-DM-Acetaminophen, Cpm-Pseudoeph-DM-Acetaminophen',\n",
       "       'DM-PE-Acetam/DM-Acetam-Doxylam', 'Cpm-Pseudoeph-DM-Acetaminophen',\n",
       "       'Chlorpheniramine-Acetaminophen, Chlorphen-PPA-Acetaminophen',\n",
       "       'Pseudoephed-DM-Acetaminophen', 'Doxylamine-DM-Acetaminophen',\n",
       "       'Pseudoephed-DM-Acetaminophen, Cpm-Pseudoeph-DM-Acetaminophen',\n",
       "       'Acetaminophen-Pamabrom, Ibuprofen', 'Cpm-PPA-DM-Acetaminophen',\n",
       "       'Doxylamin-PSE-DM-Acetaminophen, Chlorphen-PE-DM-Acetaminophen',\n",
       "       'Phenylephrine-DM-Acetaminophen', 'Acetaminophen-DM',\n",
       "       'Dextromethorphan-Guaifenesin, Guaifenesin, Cpm-Pseudoeph-DM-Acetaminophen',\n",
       "       'Pseudoephedrine-Ibuprofen, Ibuprofen',\n",
       "       'Doxylamine-PE-DM-Acetaminophen, Diphenhydramine-PPA-ASA',\n",
       "       'Pseudoephedrine-Ibuprofen, Brompheniram-PSE-Acetaminophen',\n",
       "       'Chlorpheniramine-Acetaminophen',\n",
       "       'Chlorphenir-Phenylephrn-Aspirn, Diphenhydramine-Acetaminophen, Cpm-Phenyleph-Acetaminophen, Cpm-Pseudoeph-DM-Acetaminophen',\n",
       "       'Doxylamine-PE-DM-Acetaminophen', 'Aspirin-Calcium Carbonate',\n",
       "       'Pseudoeph-DM-GG-Acetaminophen, Cpm-Pseudoeph-DM-Acetaminophen',\n",
       "       'Pseudoeph-DM-GG-Acetaminophen, Chlorphen-PE-DM-Acetaminophen',\n",
       "       'Aspirin-Acetaminophen-Caffeine, Aspirin, Phenyltoloxamine-Acetaminophen',\n",
       "       'Pseudoephed-DM-Acetaminophen, Phenylpropanolamine-GG, Chlorpheniramine-Pseudoephed',\n",
       "       'Doxylam-PE-DM-Acetaminophen-GG', 'Duloxetine', 'Pregabalin',\n",
       "       'Cyclobenzaprine', 'Paroxetine Hcl', 'Mirtazapine', 'Pramipexole',\n",
       "       'Tramadol-Acetaminophen', 'Milnacipran', 'Simethicone',\n",
       "       'Alum-Mag Hydroxide-Simeth',\n",
       "       'Aluminum-Magnesium Hydroxide, Calcium Carbonate-Mag Hydroxid, Calcium And Magnesium Carbonat, Calcium Carbonate, Alum-Mag Hydroxide-Simeth',\n",
       "       'Calcium Carbonate-Simethicone',\n",
       "       'Aluminum-Magnesium Hydroxide, Calcium Carbonate, Alum-Mag Hydroxide-Simeth',\n",
       "       'Calcium Carbonate-Mag Hydroxid, Alum-Mag Hydroxide-Simeth',\n",
       "       'Calcium Carb-Mag Hydrox-Simeth, Alum-Mag Hydroxide-Simeth',\n",
       "       'Alum-Mag Hydroxide-Simeth, Calcium Carbonate-Simethicone',\n",
       "       'Aluminum-Magnesium Hydroxide, Aluminum Hydrox-Magnesium Carb, Dihydroxyaluminum Sod Carb, Alum-Mag Hydroxide-Simeth',\n",
       "       'Al Hyd-Mg Tr-Alg Ac-Sod Bicarb, Magaldrate, Aluminum-Magnesium Hydroxide, Calcium Carbonate-Mag Hydroxid, Aluminum Hydrox-Magnesium Carb, Calcium And Magnesium Carbonat, Aluminum-Magnesium-Alginate, Calcium Carbonate, Dihydroxyaluminum Sod Carb, Alum-Mag Hydroxide-Simeth',\n",
       "       'Calcium Carbonate-Mag Hydroxid',\n",
       "       'Simethicone, Alpha-D-Galactosidase',\n",
       "       'Activated Charcoal-Simethicone, Simethicone',\n",
       "       'Aluminum-Magnesium-Alginate, Alum-Mag Hydroxide-Simeth',\n",
       "       'Aluminum-Magnesium Hydroxide, Alum-Mag Hydroxide-Simeth',\n",
       "       'Mupirocin Calcium, Mupirocin', 'Mupirocin', 'Omeprazole',\n",
       "       'Dexlansoprazole', 'Metoclopramide Hcl', 'Pantoprazole',\n",
       "       'Rabeprazole', 'Omeprazole, Omeprazole Magnesium',\n",
       "       'Omeprazole Magnesium', 'Lansoprazole',\n",
       "       'Omeprazole-Sodium Bicarbonate', 'Sucralfate', 'Ranitidine Hcl',\n",
       "       'Magnesium Oxide', 'Famotidine', 'Esomeprazole Magnesium',\n",
       "       'Famotidine-Ca Carb-Mag Hydrox',\n",
       "       'Al Hyd-Mg Tr-Alg Ac-Sod Bicarb, Aluminum Hydrox-Magnesium Carb, Aluminum-Magnesium-Alginate, Calcium Carbonate',\n",
       "       'Aluminum Hydrox-Magnesium Carb', 'Cimetidine', 'Nizatidine',\n",
       "       'Magnesium Hydroxide',\n",
       "       'Calcium Carbonate-Mag Hydroxid, Dihydroxyaluminum Sod Carb',\n",
       "       'Aluminum Hydroxide Gel', 'Esomeprazole Strontium',\n",
       "       'Al Hyd-Mg Tr-Alg Ac-Sod Bicarb',\n",
       "       'Al Hyd-Mg Tr-Alg Ac-Sod Bicarb, Aluminum Hydrox-Magnesium Carb, Aluminum-Magnesium-Alginate',\n",
       "       'Magaldrate', 'Cimetidine Hcl', 'Aluminum-Magnesium Hydroxide',\n",
       "       'Calcium Carbonate-Mag Hydroxid, Calcium Carbonate, Dihydroxyaluminum Sod Carb',\n",
       "       'Acyclovir-Hydrocortisone', 'Meloxicam', 'Celecoxib',\n",
       "       'Diclofenac Sodium', 'Etodolac', 'Diclofenac-Misoprostol',\n",
       "       'Piroxicam', 'Diclofenac Potassium', 'Oxaprozin', 'Mefenamic Acid',\n",
       "       'Ibuprofen-Famotidine', 'Ketoprofen', 'Diflunisal', 'Fenoprofen',\n",
       "       'Meclofenamate', 'Flurbiprofen', 'Tolmetin', 'Lidocaine',\n",
       "       'Phenyleph-Shark Oil-Glyc-Pet, Phenyleph-Min Oil-Petrolatum, Cocoa Butter-Shark Liver Oil',\n",
       "       'Hydrocortisone Acetate, Hydrocortison-Resor-Bismth-Zno, Hydrocortisone',\n",
       "       'Bismuth Subg-Balsam-Znox-Resor, Starch, Pramoxine-Mineral Oil-Zinc',\n",
       "       'Pramoxine-Calamine-Camphor, Pramoxine-Calamine',\n",
       "       'Phenylephrine-Witch Hazel', 'Pramoxine',\n",
       "       'Cocoa Butter-Zinc Oxide, Zinc Oxide',\n",
       "       'Phenyleph-Pramoxin-Glycr-W.Pet', 'Phenylephrine Hcl',\n",
       "       'Pramoxine-Zinc Oxide',\n",
       "       'Hydrocortisone Acetate, Bismuth Subg-Balsam-Znox-Resor',\n",
       "       'Lidocaine-Hydrocortisone-Aloe',\n",
       "       'Starch, Pramoxine-Mineral Oil-Zinc',\n",
       "       'Phenylephrine Hcl, Bismuth Subg-Balsam-Znox-Resor',\n",
       "       'Phenylephrine-Cocoa Butter', 'Pramoxine-Zinc Acetate',\n",
       "       'Phenylephrine-Zinc Oxide, Phenylephrn-Pramoxine-Mo-W.Pet',\n",
       "       'Phenyleph-Shark Oil-Cocoa Butr, Skin Rsp Ftr-Srk Liv-Phenylmer, Phenyleph-Shark Liv Oil-Mo-Pet',\n",
       "       'Zinc Oxide', 'Pramoxine-Calamine', 'Phenyleph-Min Oil-Petrolatum',\n",
       "       'Diphenhydramine-Calamine, Pramoxine-Calamine', 'Famciclovir',\n",
       "       'Simvastatin', 'Atorvastatin', 'Rosuvastatin', 'Pravastatin',\n",
       "       'Ezetimibe',\n",
       "       'Fenofibrate Micronized, Fenofibrate Nanocrystallized', 'Niacin',\n",
       "       'Fenofibric Acid (Choline)', 'Pitavastatin Calcium', 'Lovastatin',\n",
       "       'Ezetimibe-Simvastatin', 'Fenofibrate', 'Cholestyramine-Aspartame',\n",
       "       'Colestipol', 'Amlodipine-Atorvastatin', 'Evolocumab',\n",
       "       'Cholestyramine (With Sugar)', 'Fluvastatin',\n",
       "       'Fenofibrate Micronized', 'Fenofibrate Nanocrystallized',\n",
       "       'Alirocumab', 'Fenofibric Acid',\n",
       "       'Fenofibrate Micronized, Fenofibrate', 'Lisinopril', 'Atenolol',\n",
       "       'Nebivolol', 'Valsartan', 'Amlodipine', 'Metoprolol Succinate',\n",
       "       'Olmesartan', 'Losartan', 'Metoprolol Tartrate',\n",
       "       'Lisinopril-Hydrochlorothiazide', 'Clonidine Hcl',\n",
       "       'Valsartan-Hydrochlorothiazide', 'Propranolol', 'Carvedilol',\n",
       "       'Amlodipine-Olmesartan', 'Amlodipine-Valsartan',\n",
       "       'Amlodipine-Benazepril', 'Verapamil',\n",
       "       'Losartan-Hydrochlorothiazide', 'Aliskiren', 'Enalapril Maleate',\n",
       "       'Telmisartan', 'Diltiazem Hcl', 'Ramipril',\n",
       "       'Telmisartan-Hydrochlorothiazid', 'Irbesartan-Hydrochlorothiazide',\n",
       "       'Labetalol', 'Terazosin', 'Hydralazine', 'Candesartan',\n",
       "       'Benazepril', 'Doxazosin', 'Olmesartan-Amlodipin-Hcthiazid',\n",
       "       'Prazosin', 'Nifedipine', 'Bisoprolol Fumarate',\n",
       "       'Bisoprolol-Hydrochlorothiazide', 'Azilsartan Med-Chlorthalidone',\n",
       "       'Azilsartan Medoxomil', 'Guanfacine', 'Carvedilol Phosphate',\n",
       "       'Atenolol-Chlorthalidone', 'Nadolol',\n",
       "       'Benazepril-Hydrochlorothiazide', 'Amlodipine-Valsartan-Hcthiazid',\n",
       "       'Quinapril', 'Felodipine', 'Nisoldipine', 'Trandolapril-Verapamil',\n",
       "       'Candesartan-Hydrochlorothiazid', 'Minoxidil', 'Trandolapril',\n",
       "       'Perindopril Erbumine', 'Metolazone', 'Fosinopril', 'Methyldopa',\n",
       "       'Clonidine', 'Eprosartan', 'Metoprolol Ta-Hydrochlorothiaz',\n",
       "       'Telmisartan-Amlodipine', 'Captopril', 'Isradipine', 'Acebutolol',\n",
       "       'Eplerenone', 'Enalapril-Hydrochlorothiazide', 'Pindolol',\n",
       "       'Propranolol-Hydrochlorothiazid', 'Quinapril-Hydrochlorothiazide',\n",
       "       'Betaxolol', 'Metoprolol Su-Hydrochlorothiaz', 'Moexipril',\n",
       "       'Nicardipine', 'Captopril-Hydrochlorothiazide',\n",
       "       'Fosinopril-Hydrochlorothiazide', 'Timolol Maleate',\n",
       "       'Methyldopa-Hydrochlorothiazide', 'Perindopril-Amlodipine',\n",
       "       'Retapamulin', 'Risperidone', 'Paliperidone', 'Aripiprazole',\n",
       "       'Oseltamivir', 'Zanamivir', 'Dimenhydrinate', 'Fluconazole',\n",
       "       'Nystatin', 'Clotrimazole', 'Penicillin V Potassium', 'Cefprozil',\n",
       "       'Penicillin G Benzathine', 'Cefditoren Pivoxil', 'Cefpodoxime',\n",
       "       'Penicillin G Benzathin,Procain', 'Permethrin', 'Crotamiton',\n",
       "       'Lindane', 'Modafinil', 'Armodafinil',\n",
       "       'Dextromethorphan-Benzocaine', 'Benzocaine',\n",
       "       'DM-Benzocaine-Menthol', 'Diphenhydramine Hcl', 'Meclizine',\n",
       "       'Diphenhydramine Citrate',\n",
       "       'Diphenhydramine Hcl, Diphenhydramine Citrate',\n",
       "       'Diphenhydramine Hcl, Clemastine-Phenylprop, Triprolidine-Pseudoephedrine',\n",
       "       'Diphenhydramine Hcl, Dextromethorphan-Guaifenesin, Dextromethorphan Hbr',\n",
       "       'Tioconazole', 'Miconazole Nitrate', 'Terconazole',\n",
       "       'Miconazole-Skin Clnsr17', 'Butoconazole Nitrate'], dtype=object)"
      ]
     },
     "execution_count": 16,
     "metadata": {},
     "output_type": "execute_result"
    }
   ],
   "source": [
    "df['Drug'].unique()"
   ]
  },
  {
   "cell_type": "code",
   "execution_count": 17,
   "id": "69daf8d8-9f27-46c5-90d4-0e557a01b314",
   "metadata": {},
   "outputs": [
    {
     "data": {
      "text/plain": [
       "array(['On Label', 'Off Label', nan], dtype=object)"
      ]
     },
     "execution_count": 17,
     "metadata": {},
     "output_type": "execute_result"
    }
   ],
   "source": [
    "df['Indication'].unique()"
   ]
  },
  {
   "cell_type": "code",
   "execution_count": 18,
   "id": "6e7337d8-14cc-4267-9b45-cdd5c70724be",
   "metadata": {},
   "outputs": [],
   "source": [
    "#Q2"
   ]
  },
  {
   "cell_type": "code",
   "execution_count": 19,
   "id": "07662f05-106f-4ba8-916e-8b401c6cb478",
   "metadata": {},
   "outputs": [],
   "source": [
    "# Fetching the counts of unique values in the 'Drug' column\n",
    "value_counts = df['Drug'].value_counts()"
   ]
  },
  {
   "cell_type": "code",
   "execution_count": 20,
   "id": "b316f9d2-2f36-4998-a1da-ad7bea1428a3",
   "metadata": {},
   "outputs": [
    {
     "name": "stdout",
     "output_type": "stream",
     "text": [
      "The drug that is used to treat maximum no. of conditions is : Acetaminophen\n",
      "The number of conditions it is used to treat: 79\n"
     ]
    }
   ],
   "source": [
    "# Fetching the value with the maximum occurrence\n",
    "max_occurrence_value = value_counts.idxmax()\n",
    "max_occurrence_count = value_counts.max()\n",
    "print(f\"The drug that is used to treat maximum no. of conditions is : {max_occurrence_value}\")\n",
    "print(f\"The number of conditions it is used to treat: {max_occurrence_count}\")"
   ]
  },
  {
   "cell_type": "code",
   "execution_count": 21,
   "id": "2eb2ce3e-8306-4ef7-982b-bfabb6af7809",
   "metadata": {},
   "outputs": [],
   "source": [
    "#Q3"
   ]
  },
  {
   "cell_type": "code",
   "execution_count": 22,
   "id": "42b2e557-c386-4b60-8f62-a96867a49f22",
   "metadata": {},
   "outputs": [],
   "source": [
    "#data exploration for fever condition \n",
    "df1 = df[df['Condition']=='fever']"
   ]
  },
  {
   "cell_type": "code",
   "execution_count": 23,
   "id": "b7b72757-5014-4376-917f-8e553d38e91c",
   "metadata": {},
   "outputs": [
    {
     "data": {
      "text/html": [
       "<div>\n",
       "<style scoped>\n",
       "    .dataframe tbody tr th:only-of-type {\n",
       "        vertical-align: middle;\n",
       "    }\n",
       "\n",
       "    .dataframe tbody tr th {\n",
       "        vertical-align: top;\n",
       "    }\n",
       "\n",
       "    .dataframe thead th {\n",
       "        text-align: right;\n",
       "    }\n",
       "</style>\n",
       "<table border=\"1\" class=\"dataframe\">\n",
       "  <thead>\n",
       "    <tr style=\"text-align: right;\">\n",
       "      <th></th>\n",
       "      <th>Condition</th>\n",
       "      <th>Drug</th>\n",
       "      <th>Indication</th>\n",
       "      <th>Prescription_requirement</th>\n",
       "      <th>Number_of_reviews</th>\n",
       "      <th>Effectiveness</th>\n",
       "      <th>Ease_of_use</th>\n",
       "      <th>Satisfaction</th>\n",
       "      <th>Indication.6</th>\n",
       "    </tr>\n",
       "  </thead>\n",
       "  <tbody>\n",
       "    <tr>\n",
       "      <th>878</th>\n",
       "      <td>fever</td>\n",
       "      <td>Naproxen</td>\n",
       "      <td>On Label</td>\n",
       "      <td>RX</td>\n",
       "      <td>740 Reviews</td>\n",
       "      <td>2.82</td>\n",
       "      <td>3.70</td>\n",
       "      <td>2.42</td>\n",
       "      <td>_x000D_\\n\\t\\t\\t\\t\\t This is a generic drug. Th...</td>\n",
       "    </tr>\n",
       "    <tr>\n",
       "      <th>881</th>\n",
       "      <td>fever</td>\n",
       "      <td>Indomethacin</td>\n",
       "      <td>Off Label</td>\n",
       "      <td>RX</td>\n",
       "      <td>315 Reviews</td>\n",
       "      <td>3.97</td>\n",
       "      <td>4.25</td>\n",
       "      <td>3.67</td>\n",
       "      <td>_x000D_\\n\\t\\t\\t\\t\\tIndomethacin is used to rel...</td>\n",
       "    </tr>\n",
       "    <tr>\n",
       "      <th>884</th>\n",
       "      <td>fever</td>\n",
       "      <td>Ibuprofen</td>\n",
       "      <td>On Label</td>\n",
       "      <td>RX/OTC</td>\n",
       "      <td>271 Reviews</td>\n",
       "      <td>3.37</td>\n",
       "      <td>3.98</td>\n",
       "      <td>3.13</td>\n",
       "      <td>_x000D_\\n\\t\\t\\t\\t\\t This is a brand name drug ...</td>\n",
       "    </tr>\n",
       "    <tr>\n",
       "      <th>888</th>\n",
       "      <td>fever</td>\n",
       "      <td>Naproxen Sodium</td>\n",
       "      <td>On Label</td>\n",
       "      <td>OTC</td>\n",
       "      <td>186 Reviews</td>\n",
       "      <td>3.50</td>\n",
       "      <td>4.24</td>\n",
       "      <td>3.13</td>\n",
       "      <td>_x000D_\\n\\t\\t\\t\\t\\t This is a generic drug. Th...</td>\n",
       "    </tr>\n",
       "    <tr>\n",
       "      <th>889</th>\n",
       "      <td>fever</td>\n",
       "      <td>Acetaminophen</td>\n",
       "      <td>On Label</td>\n",
       "      <td>OTC</td>\n",
       "      <td>135 Reviews</td>\n",
       "      <td>3.07</td>\n",
       "      <td>3.85</td>\n",
       "      <td>3.15</td>\n",
       "      <td>_x000D_\\n\\t\\t\\t\\t\\t This is a brand name drug ...</td>\n",
       "    </tr>\n",
       "    <tr>\n",
       "      <th>...</th>\n",
       "      <td>...</td>\n",
       "      <td>...</td>\n",
       "      <td>...</td>\n",
       "      <td>...</td>\n",
       "      <td>...</td>\n",
       "      <td>...</td>\n",
       "      <td>...</td>\n",
       "      <td>...</td>\n",
       "      <td>...</td>\n",
       "    </tr>\n",
       "    <tr>\n",
       "      <th>1177</th>\n",
       "      <td>fever</td>\n",
       "      <td>Pseudoephed-DM-Acetaminophen, Phenylpropanolam...</td>\n",
       "      <td>On Label</td>\n",
       "      <td>OTC</td>\n",
       "      <td>1 Reviews</td>\n",
       "      <td>3.00</td>\n",
       "      <td>3.00</td>\n",
       "      <td>3.00</td>\n",
       "      <td>_x000D_\\n\\t\\t\\t\\t\\tThis combination medication...</td>\n",
       "    </tr>\n",
       "    <tr>\n",
       "      <th>1181</th>\n",
       "      <td>fever</td>\n",
       "      <td>Chlorpheniram-DM-Acetaminophen</td>\n",
       "      <td>On Label</td>\n",
       "      <td>OTC</td>\n",
       "      <td>1 Reviews</td>\n",
       "      <td>5.00</td>\n",
       "      <td>5.00</td>\n",
       "      <td>5.00</td>\n",
       "      <td>_x000D_\\n\\t\\t\\t\\t\\t This is a brand name drug ...</td>\n",
       "    </tr>\n",
       "    <tr>\n",
       "      <th>1182</th>\n",
       "      <td>fever</td>\n",
       "      <td>Doxylamine-PE-DM-Acetaminophen</td>\n",
       "      <td>On Label</td>\n",
       "      <td>OTC</td>\n",
       "      <td>1 Reviews</td>\n",
       "      <td>5.00</td>\n",
       "      <td>4.00</td>\n",
       "      <td>4.00</td>\n",
       "      <td>_x000D_\\n\\t\\t\\t\\t\\t This is a brand name drug ...</td>\n",
       "    </tr>\n",
       "    <tr>\n",
       "      <th>1184</th>\n",
       "      <td>fever</td>\n",
       "      <td>Phenylephrine-DM-Acetaminophen</td>\n",
       "      <td>On Label</td>\n",
       "      <td>OTC</td>\n",
       "      <td>1 Reviews</td>\n",
       "      <td>4.00</td>\n",
       "      <td>5.00</td>\n",
       "      <td>4.00</td>\n",
       "      <td>_x000D_\\n\\t\\t\\t\\t\\tThis combination medication...</td>\n",
       "    </tr>\n",
       "    <tr>\n",
       "      <th>1185</th>\n",
       "      <td>fever</td>\n",
       "      <td>Doxylam-PE-DM-Acetaminophen-GG</td>\n",
       "      <td>On Label</td>\n",
       "      <td>OTC</td>\n",
       "      <td>1 Reviews</td>\n",
       "      <td>4.00</td>\n",
       "      <td>5.00</td>\n",
       "      <td>5.00</td>\n",
       "      <td>_x000D_\\n\\t\\t\\t\\t\\t This is a brand name drug ...</td>\n",
       "    </tr>\n",
       "  </tbody>\n",
       "</table>\n",
       "<p>227 rows × 9 columns</p>\n",
       "</div>"
      ],
      "text/plain": [
       "     Condition                                               Drug Indication  \\\n",
       "878      fever                                           Naproxen   On Label   \n",
       "881      fever                                       Indomethacin  Off Label   \n",
       "884      fever                                          Ibuprofen   On Label   \n",
       "888      fever                                    Naproxen Sodium   On Label   \n",
       "889      fever                                      Acetaminophen   On Label   \n",
       "...        ...                                                ...        ...   \n",
       "1177     fever  Pseudoephed-DM-Acetaminophen, Phenylpropanolam...   On Label   \n",
       "1181     fever                     Chlorpheniram-DM-Acetaminophen   On Label   \n",
       "1182     fever                     Doxylamine-PE-DM-Acetaminophen   On Label   \n",
       "1184     fever                     Phenylephrine-DM-Acetaminophen   On Label   \n",
       "1185     fever                     Doxylam-PE-DM-Acetaminophen-GG   On Label   \n",
       "\n",
       "     Prescription_requirement Number_of_reviews  Effectiveness  Ease_of_use  \\\n",
       "878                        RX       740 Reviews           2.82         3.70   \n",
       "881                        RX       315 Reviews           3.97         4.25   \n",
       "884                    RX/OTC       271 Reviews           3.37         3.98   \n",
       "888                       OTC       186 Reviews           3.50         4.24   \n",
       "889                       OTC       135 Reviews           3.07         3.85   \n",
       "...                       ...               ...            ...          ...   \n",
       "1177                      OTC         1 Reviews           3.00         3.00   \n",
       "1181                      OTC         1 Reviews           5.00         5.00   \n",
       "1182                      OTC         1 Reviews           5.00         4.00   \n",
       "1184                      OTC         1 Reviews           4.00         5.00   \n",
       "1185                      OTC         1 Reviews           4.00         5.00   \n",
       "\n",
       "      Satisfaction                                       Indication.6  \n",
       "878           2.42  _x000D_\\n\\t\\t\\t\\t\\t This is a generic drug. Th...  \n",
       "881           3.67  _x000D_\\n\\t\\t\\t\\t\\tIndomethacin is used to rel...  \n",
       "884           3.13  _x000D_\\n\\t\\t\\t\\t\\t This is a brand name drug ...  \n",
       "888           3.13  _x000D_\\n\\t\\t\\t\\t\\t This is a generic drug. Th...  \n",
       "889           3.15  _x000D_\\n\\t\\t\\t\\t\\t This is a brand name drug ...  \n",
       "...            ...                                                ...  \n",
       "1177          3.00  _x000D_\\n\\t\\t\\t\\t\\tThis combination medication...  \n",
       "1181          5.00  _x000D_\\n\\t\\t\\t\\t\\t This is a brand name drug ...  \n",
       "1182          4.00  _x000D_\\n\\t\\t\\t\\t\\t This is a brand name drug ...  \n",
       "1184          4.00  _x000D_\\n\\t\\t\\t\\t\\tThis combination medication...  \n",
       "1185          5.00  _x000D_\\n\\t\\t\\t\\t\\t This is a brand name drug ...  \n",
       "\n",
       "[227 rows x 9 columns]"
      ]
     },
     "execution_count": 23,
     "metadata": {},
     "output_type": "execute_result"
    }
   ],
   "source": [
    "df1"
   ]
  },
  {
   "cell_type": "code",
   "execution_count": 28,
   "id": "df72fbab-5b1a-438c-942f-709f469a0879",
   "metadata": {},
   "outputs": [
    {
     "name": "stdout",
     "output_type": "stream",
     "text": [
      "                                                   Drug  Effectiveness\n",
      "924                              Acetaminophen-Caffeine            5.0\n",
      "929                                             Aspirin            5.0\n",
      "930                      Chlorpheniram-DM-Acetaminophen            5.0\n",
      "934                       Pseudoeph-DM-GG-Acetaminophen            5.0\n",
      "936                      ASA-Acetaminophen-Salicyl-Caff            5.0\n",
      "938                                       Acetaminophen            5.0\n",
      "943                                   Aspirin, Buffered            5.0\n",
      "953   Chlorphen-PE-DM-Acetaminophen, Cpm-Pseudoeph-D...            5.0\n",
      "956                                             Aspirin            5.0\n",
      "962                      Cpm-Pseudoeph-DM-Acetaminophen            5.0\n",
      "974                         Doxylamine-DM-Acetaminophen            5.0\n",
      "984                            Naproxen-Pseudoephedrine            5.0\n",
      "987   Pseudoephed-DM-Acetaminophen, Cpm-Pseudoeph-DM...            5.0\n",
      "989                      Chlorpheniram-DM-Acetaminophen            5.0\n",
      "995                                       Acetaminophen            5.0\n",
      "996                                       Acetaminophen            5.0\n",
      "1000                                  Aspirin, Buffered            5.0\n",
      "1005                  Acetaminophen-Pamabrom, Ibuprofen            5.0\n",
      "1007                                          Ibuprofen            5.0\n",
      "1022            Cpm-PPA-DM-Acetaminophen, Acetaminophen            5.0\n",
      "1028                     Cpm-Pseudoeph-DM-Acetaminophen            5.0\n",
      "1030                       Choline,Magnesium Salicylate            5.0\n",
      "1032                           Naproxen-Pseudoephedrine            5.0\n",
      "1033                     Phenyltoloxamine-Acetaminophen            5.0\n",
      "1034                                      Acetaminophen            5.0\n",
      "1038                        Doxylamine-DM-Acetaminophen            5.0\n",
      "1039                                      Acetaminophen            5.0\n",
      "1043                        Doxylamine-DM-Acetaminophen            5.0\n",
      "1045                       Pseudoephed-DM-Acetaminophen            5.0\n",
      "1049                     Aspirin-Acetaminophen-Caffeine            5.0\n",
      "1052                                  Aspirin, Buffered            5.0\n",
      "1061                                   Acetaminophen-DM            5.0\n",
      "1064                                            Aspirin            5.0\n",
      "1065                                      Acetaminophen            5.0\n",
      "1066               Pseudoephedrine-Ibuprofen, Ibuprofen            5.0\n",
      "1068                                      Acetaminophen            5.0\n",
      "1069                                          Ibuprofen            5.0\n",
      "1072                           Naproxen-Pseudoephedrine            5.0\n",
      "1075                     Phenyltoloxamine-Acetaminophen            5.0\n",
      "1079                                          Ibuprofen            5.0\n",
      "1089                      Phenyleph-DM-Acetamin-Guaifen            5.0\n",
      "1096                     Phenyltoloxamine-Acetaminophen            5.0\n",
      "1097                     Cpm-Pseudoeph-DM-Acetaminophen            5.0\n",
      "1098                     Cpm-Pseudoeph-DM-Acetaminophen            5.0\n",
      "1115                     Phenylephrine-DM-Acetaminophen            5.0\n",
      "1127                     Doxylamine-PE-DM-Acetaminophen            5.0\n",
      "1144                          Aspirin-Calcium Carbonate            5.0\n",
      "1145                     Phenylephrine-DM-Acetaminophen            5.0\n",
      "1149                     Phenylephrine-DM-Acetaminophen            5.0\n",
      "1166                     Doxylamin-PSE-DM-Acetaminophen            5.0\n",
      "1169                        Doxylamine-DM-Acetaminophen            5.0\n",
      "1181                     Chlorpheniram-DM-Acetaminophen            5.0\n",
      "1182                     Doxylamine-PE-DM-Acetaminophen            5.0\n"
     ]
    }
   ],
   "source": [
    "# Find the maximum effectiveness\n",
    "max_eff = df1['Effectiveness'].max()\n",
    "\n",
    "# Fetch all rows with the maximum effectiveness\n",
    "max_eff_rows = df1[df1['Effectiveness'] == max_eff]\n",
    "\n",
    "print(max_eff_rows[['Drug', 'Effectiveness']])"
   ]
  },
  {
   "cell_type": "code",
   "execution_count": 26,
   "id": "0eec877e-6933-44c5-be5d-58d2e70979f5",
   "metadata": {},
   "outputs": [],
   "source": [
    "#Q4"
   ]
  },
  {
   "cell_type": "code",
   "execution_count": 27,
   "id": "beda560e-3738-4e8d-80ba-ddc0fdc89b7b",
   "metadata": {},
   "outputs": [
    {
     "name": "stdout",
     "output_type": "stream",
     "text": [
      "['Acetaminophen-Pamabrom, Ibuprofen', 'Al Hyd-Mg Tr-Alg Ac-Sod Bicarb, Magaldrate, Aluminum-Magnesium Hydroxide, Calcium Carbonate-Mag Hydroxid, Aluminum Hydrox-Magnesium Carb, Calcium And Magnesium Carbonat, Aluminum-Magnesium-Alginate, Calcium Carbonate, Dihydroxyaluminum Sod Carb, Alum-Mag Hydroxide-Simeth', 'Alum-Mag Hydroxide-Simeth', 'Aluminum-Magnesium Hydroxide, Alum-Mag Hydroxide-Simeth', 'Aluminum-Magnesium Hydroxide, Aluminum Hydrox-Magnesium Carb, Dihydroxyaluminum Sod Carb, Alum-Mag Hydroxide-Simeth', 'Aluminum-Magnesium Hydroxide, Calcium Carbonate, Alum-Mag Hydroxide-Simeth', 'Aluminum-Magnesium Hydroxide, Calcium Carbonate-Mag Hydroxid, Calcium And Magnesium Carbonat, Calcium Carbonate, Alum-Mag Hydroxide-Simeth', 'Aluminum-Magnesium-Alginate, Alum-Mag Hydroxide-Simeth', 'Amitriptyline', 'Amoxicillin-Pot Clavulanate', 'Ampicillin Sodium', 'Bumetanide', 'Cefaclor', 'Cefdinir', 'Ciprofloxacin', 'Ciprofloxacin Hcl', 'Ciprofloxacin Hcl, Ciprofloxacin', 'Ciprofloxacin In 5 % Dextrose', 'Clonidine Hcl', 'Diltiazem Hcl', 'Dimenhydrinate', 'Erythromycin', 'Erythromycin Ethylsuccinate', 'Erythromycin Stearate', 'Ethacrynic Acid', 'Fluvastatin', 'Hydrocortisone', 'Hydrocortisone Acetate', 'Ibuprofen', 'Indomethacin', 'Lovastatin', 'Magnesium Hydroxide', 'Medroxyprogesterone', 'Mupirocin', 'Mupirocin Calcium, Mupirocin', 'Naproxen', 'Naproxen Sodium', 'Pantoprazole', 'Pseudoephedrine-Ibuprofen, Ibuprofen', 'Sulfamethoxazole-Trimethoprim', 'Triamterene', 'Ursodiol']\n"
     ]
    }
   ],
   "source": [
    "# Group by 'Drug' and aggregate unique values of 'indicator'\n",
    "df2 = df.groupby('Drug')['Indication'].unique()\n",
    "\n",
    "# Filter drugs that have both 'On Label' and 'Off Label'\n",
    "result4 = df2[df2.apply(lambda x: set(['On Label', 'Off Label']).issubset(x))]\n",
    "\n",
    "# Get the names of the drugs\n",
    "drugs_with_both_indicators = result4.index.tolist()\n",
    "\n",
    "print(drugs_with_both_indicators)"
   ]
  },
  {
   "cell_type": "code",
   "execution_count": null,
   "id": "b1ca51cf-b712-4e34-9731-e2c7399badf5",
   "metadata": {},
   "outputs": [],
   "source": [
    "#Q5"
   ]
  },
  {
   "cell_type": "code",
   "execution_count": 24,
   "id": "8b343d4e-fc33-49f0-b582-6a07ca80ec08",
   "metadata": {},
   "outputs": [
    {
     "name": "stdout",
     "output_type": "stream",
     "text": [
      "                       Drug  Effectiveness\n",
      "44    Erythromycin Stearate            5.0\n",
      "46           Clarithromycin            5.0\n",
      "49             Erythromycin            5.0\n",
      "50        Ampicillin Sodium            5.0\n",
      "51              Amoxicillin            5.0\n",
      "...                     ...            ...\n",
      "2166    Diphenhydramine Hcl            5.0\n",
      "2214           Clotrimazole            5.0\n",
      "2215   Butoconazole Nitrate            5.0\n",
      "2216           Clotrimazole            5.0\n",
      "2217   Butoconazole Nitrate            5.0\n",
      "\n",
      "[297 rows x 2 columns]\n"
     ]
    }
   ],
   "source": [
    "# Find the maximum effectiveness\n",
    "max_eff = df['Effectiveness'].max()\n",
    "\n",
    "# Fetch all rows with the maximum effectiveness\n",
    "max_eff_rows = df[df['Effectiveness'] == max_eff]\n",
    "\n",
    "print(max_eff_rows[['Drug', 'Effectiveness']])"
   ]
  },
  {
   "cell_type": "code",
   "execution_count": 25,
   "id": "5f6acbee-9506-421b-b3ed-c4982a5b4d93",
   "metadata": {},
   "outputs": [
    {
     "name": "stdout",
     "output_type": "stream",
     "text": [
      "                             Drug  Ease_of_use\n",
      "41                    Amoxicillin          5.0\n",
      "50              Ampicillin Sodium          5.0\n",
      "56                    Amoxicillin          5.0\n",
      "76                    Oxaliplatin          5.0\n",
      "143   Betamethasone Acet,Sod Phos          5.0\n",
      "...                           ...          ...\n",
      "2211           Miconazole Nitrate          5.0\n",
      "2212                 Clotrimazole          5.0\n",
      "2214                 Clotrimazole          5.0\n",
      "2215         Butoconazole Nitrate          5.0\n",
      "2217         Butoconazole Nitrate          5.0\n",
      "\n",
      "[423 rows x 2 columns]\n"
     ]
    }
   ],
   "source": [
    "# Find the maximum ease_of_use\n",
    "max_eou = df['Ease_of_use'].max()\n",
    "\n",
    "# Fetch all rows with the maximum ease_of_use\n",
    "max_eou_rows = df[df['Ease_of_use'] == max_eou]\n",
    "\n",
    "print(max_eou_rows[['Drug', 'Ease_of_use']])"
   ]
  },
  {
   "cell_type": "code",
   "execution_count": null,
   "id": "bc680797-5651-453d-b454-ec5ad1066c49",
   "metadata": {},
   "outputs": [],
   "source": []
  }
 ],
 "metadata": {
  "kernelspec": {
   "display_name": "Python 3 (ipykernel)",
   "language": "python",
   "name": "python3"
  },
  "language_info": {
   "codemirror_mode": {
    "name": "ipython",
    "version": 3
   },
   "file_extension": ".py",
   "mimetype": "text/x-python",
   "name": "python",
   "nbconvert_exporter": "python",
   "pygments_lexer": "ipython3",
   "version": "3.12.3"
  }
 },
 "nbformat": 4,
 "nbformat_minor": 5
}
